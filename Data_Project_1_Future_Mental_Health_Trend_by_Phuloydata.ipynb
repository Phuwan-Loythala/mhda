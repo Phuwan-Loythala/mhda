{
  "nbformat": 4,
  "nbformat_minor": 0,
  "metadata": {
    "colab": {
      "provenance": [],
      "authorship_tag": "ABX9TyO5RP/AeFxLPq3Ok7NL7lQy",
      "include_colab_link": true
    },
    "kernelspec": {
      "name": "python3",
      "display_name": "Python 3"
    },
    "language_info": {
      "name": "python"
    }
  },
  "cells": [
    {
      "cell_type": "markdown",
      "metadata": {
        "id": "view-in-github",
        "colab_type": "text"
      },
      "source": [
        "<a href=\"https://colab.research.google.com/github/Phuwan-Loythala/mhda/blob/main/Data_Project_1_Future_Mental_Health_Trend_by_Phuloydata.ipynb\" target=\"_parent\"><img src=\"https://colab.research.google.com/assets/colab-badge.svg\" alt=\"Open In Colab\"/></a>"
      ]
    },
    {
      "cell_type": "markdown",
      "source": [
        "#Import Essential Library\n"
      ],
      "metadata": {
        "id": "u_cfI0uNAJ_F"
      }
    },
    {
      "cell_type": "code",
      "execution_count": null,
      "metadata": {
        "id": "kq0nSibx-zfY"
      },
      "outputs": [],
      "source": [
        "import numpy as np\n",
        "import pandas as pd\n",
        "import matplotlib.pyplot as plt"
      ]
    },
    {
      "cell_type": "markdown",
      "source": [
        "#Read Data"
      ],
      "metadata": {
        "id": "VQKOR3_vAHRB"
      }
    },
    {
      "cell_type": "code",
      "source": [
        "data = pd.read_csv('/content/mentalhealthtrend.csv')"
      ],
      "metadata": {
        "id": "o_00J8xh_gB-"
      },
      "execution_count": null,
      "outputs": []
    },
    {
      "cell_type": "markdown",
      "source": [
        "#Data Exploration"
      ],
      "metadata": {
        "id": "FaW62ekhAEsf"
      }
    },
    {
      "cell_type": "code",
      "source": [
        "data.shape  # Get the dimensions of the dataset (rows, columns)"
      ],
      "metadata": {
        "colab": {
          "base_uri": "https://localhost:8080/"
        },
        "id": "vqjhP75-_oom",
        "outputId": "fca8b24e-9b17-4758-f0a3-b2e54193035b"
      },
      "execution_count": null,
      "outputs": [
        {
          "output_type": "execute_result",
          "data": {
            "text/plain": [
              "(6468, 11)"
            ]
          },
          "metadata": {},
          "execution_count": 44
        }
      ]
    },
    {
      "cell_type": "code",
      "source": [
        "data.head()  # View the first few rows of the dataset"
      ],
      "metadata": {
        "colab": {
          "base_uri": "https://localhost:8080/",
          "height": 267
        },
        "id": "Sb6k7_iy_v7R",
        "outputId": "25ec5853-5e03-4ee9-ff16-c761a5044547"
      },
      "execution_count": null,
      "outputs": [
        {
          "output_type": "execute_result",
          "data": {
            "text/plain": [
              "   index       Entity Code  Year  Schizophrenia (%)  Bipolar disorder (%)  \\\n",
              "0      0  Afghanistan  AFG  1990           0.160560              0.697779   \n",
              "1      1  Afghanistan  AFG  1991           0.160312              0.697961   \n",
              "2      2  Afghanistan  AFG  1992           0.160135              0.698107   \n",
              "3      3  Afghanistan  AFG  1993           0.160037              0.698257   \n",
              "4      4  Afghanistan  AFG  1994           0.160022              0.698469   \n",
              "\n",
              "   Eating disorders (%)  Anxiety disorders (%)  Drug use disorders (%)  \\\n",
              "0              0.101855               4.828830                1.677082   \n",
              "1              0.099313               4.829740                1.684746   \n",
              "2              0.096692               4.831108                1.694334   \n",
              "3              0.094336               4.830864                1.705320   \n",
              "4              0.092439               4.829423                1.716069   \n",
              "\n",
              "   Depression (%)  Alcohol use disorders (%)  \n",
              "0        4.071831                   0.672404  \n",
              "1        4.079531                   0.671768  \n",
              "2        4.088358                   0.670644  \n",
              "3        4.096190                   0.669738  \n",
              "4        4.099582                   0.669260  "
            ],
            "text/html": [
              "\n",
              "  <div id=\"df-522eae13-45e7-4aba-bcae-d9c42758bceb\">\n",
              "    <div class=\"colab-df-container\">\n",
              "      <div>\n",
              "<style scoped>\n",
              "    .dataframe tbody tr th:only-of-type {\n",
              "        vertical-align: middle;\n",
              "    }\n",
              "\n",
              "    .dataframe tbody tr th {\n",
              "        vertical-align: top;\n",
              "    }\n",
              "\n",
              "    .dataframe thead th {\n",
              "        text-align: right;\n",
              "    }\n",
              "</style>\n",
              "<table border=\"1\" class=\"dataframe\">\n",
              "  <thead>\n",
              "    <tr style=\"text-align: right;\">\n",
              "      <th></th>\n",
              "      <th>index</th>\n",
              "      <th>Entity</th>\n",
              "      <th>Code</th>\n",
              "      <th>Year</th>\n",
              "      <th>Schizophrenia (%)</th>\n",
              "      <th>Bipolar disorder (%)</th>\n",
              "      <th>Eating disorders (%)</th>\n",
              "      <th>Anxiety disorders (%)</th>\n",
              "      <th>Drug use disorders (%)</th>\n",
              "      <th>Depression (%)</th>\n",
              "      <th>Alcohol use disorders (%)</th>\n",
              "    </tr>\n",
              "  </thead>\n",
              "  <tbody>\n",
              "    <tr>\n",
              "      <th>0</th>\n",
              "      <td>0</td>\n",
              "      <td>Afghanistan</td>\n",
              "      <td>AFG</td>\n",
              "      <td>1990</td>\n",
              "      <td>0.160560</td>\n",
              "      <td>0.697779</td>\n",
              "      <td>0.101855</td>\n",
              "      <td>4.828830</td>\n",
              "      <td>1.677082</td>\n",
              "      <td>4.071831</td>\n",
              "      <td>0.672404</td>\n",
              "    </tr>\n",
              "    <tr>\n",
              "      <th>1</th>\n",
              "      <td>1</td>\n",
              "      <td>Afghanistan</td>\n",
              "      <td>AFG</td>\n",
              "      <td>1991</td>\n",
              "      <td>0.160312</td>\n",
              "      <td>0.697961</td>\n",
              "      <td>0.099313</td>\n",
              "      <td>4.829740</td>\n",
              "      <td>1.684746</td>\n",
              "      <td>4.079531</td>\n",
              "      <td>0.671768</td>\n",
              "    </tr>\n",
              "    <tr>\n",
              "      <th>2</th>\n",
              "      <td>2</td>\n",
              "      <td>Afghanistan</td>\n",
              "      <td>AFG</td>\n",
              "      <td>1992</td>\n",
              "      <td>0.160135</td>\n",
              "      <td>0.698107</td>\n",
              "      <td>0.096692</td>\n",
              "      <td>4.831108</td>\n",
              "      <td>1.694334</td>\n",
              "      <td>4.088358</td>\n",
              "      <td>0.670644</td>\n",
              "    </tr>\n",
              "    <tr>\n",
              "      <th>3</th>\n",
              "      <td>3</td>\n",
              "      <td>Afghanistan</td>\n",
              "      <td>AFG</td>\n",
              "      <td>1993</td>\n",
              "      <td>0.160037</td>\n",
              "      <td>0.698257</td>\n",
              "      <td>0.094336</td>\n",
              "      <td>4.830864</td>\n",
              "      <td>1.705320</td>\n",
              "      <td>4.096190</td>\n",
              "      <td>0.669738</td>\n",
              "    </tr>\n",
              "    <tr>\n",
              "      <th>4</th>\n",
              "      <td>4</td>\n",
              "      <td>Afghanistan</td>\n",
              "      <td>AFG</td>\n",
              "      <td>1994</td>\n",
              "      <td>0.160022</td>\n",
              "      <td>0.698469</td>\n",
              "      <td>0.092439</td>\n",
              "      <td>4.829423</td>\n",
              "      <td>1.716069</td>\n",
              "      <td>4.099582</td>\n",
              "      <td>0.669260</td>\n",
              "    </tr>\n",
              "  </tbody>\n",
              "</table>\n",
              "</div>\n",
              "      <button class=\"colab-df-convert\" onclick=\"convertToInteractive('df-522eae13-45e7-4aba-bcae-d9c42758bceb')\"\n",
              "              title=\"Convert this dataframe to an interactive table.\"\n",
              "              style=\"display:none;\">\n",
              "        \n",
              "  <svg xmlns=\"http://www.w3.org/2000/svg\" height=\"24px\"viewBox=\"0 0 24 24\"\n",
              "       width=\"24px\">\n",
              "    <path d=\"M0 0h24v24H0V0z\" fill=\"none\"/>\n",
              "    <path d=\"M18.56 5.44l.94 2.06.94-2.06 2.06-.94-2.06-.94-.94-2.06-.94 2.06-2.06.94zm-11 1L8.5 8.5l.94-2.06 2.06-.94-2.06-.94L8.5 2.5l-.94 2.06-2.06.94zm10 10l.94 2.06.94-2.06 2.06-.94-2.06-.94-.94-2.06-.94 2.06-2.06.94z\"/><path d=\"M17.41 7.96l-1.37-1.37c-.4-.4-.92-.59-1.43-.59-.52 0-1.04.2-1.43.59L10.3 9.45l-7.72 7.72c-.78.78-.78 2.05 0 2.83L4 21.41c.39.39.9.59 1.41.59.51 0 1.02-.2 1.41-.59l7.78-7.78 2.81-2.81c.8-.78.8-2.07 0-2.86zM5.41 20L4 18.59l7.72-7.72 1.47 1.35L5.41 20z\"/>\n",
              "  </svg>\n",
              "      </button>\n",
              "      \n",
              "  <style>\n",
              "    .colab-df-container {\n",
              "      display:flex;\n",
              "      flex-wrap:wrap;\n",
              "      gap: 12px;\n",
              "    }\n",
              "\n",
              "    .colab-df-convert {\n",
              "      background-color: #E8F0FE;\n",
              "      border: none;\n",
              "      border-radius: 50%;\n",
              "      cursor: pointer;\n",
              "      display: none;\n",
              "      fill: #1967D2;\n",
              "      height: 32px;\n",
              "      padding: 0 0 0 0;\n",
              "      width: 32px;\n",
              "    }\n",
              "\n",
              "    .colab-df-convert:hover {\n",
              "      background-color: #E2EBFA;\n",
              "      box-shadow: 0px 1px 2px rgba(60, 64, 67, 0.3), 0px 1px 3px 1px rgba(60, 64, 67, 0.15);\n",
              "      fill: #174EA6;\n",
              "    }\n",
              "\n",
              "    [theme=dark] .colab-df-convert {\n",
              "      background-color: #3B4455;\n",
              "      fill: #D2E3FC;\n",
              "    }\n",
              "\n",
              "    [theme=dark] .colab-df-convert:hover {\n",
              "      background-color: #434B5C;\n",
              "      box-shadow: 0px 1px 3px 1px rgba(0, 0, 0, 0.15);\n",
              "      filter: drop-shadow(0px 1px 2px rgba(0, 0, 0, 0.3));\n",
              "      fill: #FFFFFF;\n",
              "    }\n",
              "  </style>\n",
              "\n",
              "      <script>\n",
              "        const buttonEl =\n",
              "          document.querySelector('#df-522eae13-45e7-4aba-bcae-d9c42758bceb button.colab-df-convert');\n",
              "        buttonEl.style.display =\n",
              "          google.colab.kernel.accessAllowed ? 'block' : 'none';\n",
              "\n",
              "        async function convertToInteractive(key) {\n",
              "          const element = document.querySelector('#df-522eae13-45e7-4aba-bcae-d9c42758bceb');\n",
              "          const dataTable =\n",
              "            await google.colab.kernel.invokeFunction('convertToInteractive',\n",
              "                                                     [key], {});\n",
              "          if (!dataTable) return;\n",
              "\n",
              "          const docLinkHtml = 'Like what you see? Visit the ' +\n",
              "            '<a target=\"_blank\" href=https://colab.research.google.com/notebooks/data_table.ipynb>data table notebook</a>'\n",
              "            + ' to learn more about interactive tables.';\n",
              "          element.innerHTML = '';\n",
              "          dataTable['output_type'] = 'display_data';\n",
              "          await google.colab.output.renderOutput(dataTable, element);\n",
              "          const docLink = document.createElement('div');\n",
              "          docLink.innerHTML = docLinkHtml;\n",
              "          element.appendChild(docLink);\n",
              "        }\n",
              "      </script>\n",
              "    </div>\n",
              "  </div>\n",
              "  "
            ]
          },
          "metadata": {},
          "execution_count": 45
        }
      ]
    },
    {
      "cell_type": "code",
      "source": [
        "data.describe()  # Get statistical summaries of the dataset"
      ],
      "metadata": {
        "colab": {
          "base_uri": "https://localhost:8080/",
          "height": 361
        },
        "id": "PiiezakH_0FR",
        "outputId": "32379851-4db3-4125-e819-56137f740225"
      },
      "execution_count": null,
      "outputs": [
        {
          "output_type": "execute_result",
          "data": {
            "text/plain": [
              "             index         Year  Schizophrenia (%)  Bipolar disorder (%)  \\\n",
              "count  6468.000000  6468.000000        6468.000000           6468.000000   \n",
              "mean   3233.500000  2003.500000           0.211644              0.719145   \n",
              "std    1867.295103     8.078372           0.044253              0.171589   \n",
              "min       0.000000  1990.000000           0.146902              0.314535   \n",
              "25%    1616.750000  1996.750000           0.181529              0.615533   \n",
              "50%    3233.500000  2003.500000           0.199563              0.693134   \n",
              "75%    4850.250000  2010.250000           0.236366              0.835063   \n",
              "max    6467.000000  2017.000000           0.375110              1.206597   \n",
              "\n",
              "       Eating disorders (%)  Anxiety disorders (%)  Drug use disorders (%)  \\\n",
              "count           6468.000000            6468.000000             6468.000000   \n",
              "mean               0.239998               3.989921                0.862278   \n",
              "std                0.158141               1.167526                0.460679   \n",
              "min                0.073908               2.023393                0.383650   \n",
              "25%                0.122387               3.188824                0.535064   \n",
              "50%                0.182525               3.554373                0.726430   \n",
              "75%                0.292667               4.682163                0.940157   \n",
              "max                0.943991               8.967330                3.452476   \n",
              "\n",
              "       Depression (%)  Alcohol use disorders (%)  \n",
              "count     6468.000000                6468.000000  \n",
              "mean         3.497654                   1.585821  \n",
              "std          0.655859                   0.860283  \n",
              "min          2.139903                   0.446940  \n",
              "25%          3.005529                   0.993685  \n",
              "50%          3.499606                   1.479936  \n",
              "75%          3.912381                   1.867834  \n",
              "max          6.602754                   5.474668  "
            ],
            "text/html": [
              "\n",
              "  <div id=\"df-ab2ab35b-a47e-483b-b0b3-ee5c382b97c9\">\n",
              "    <div class=\"colab-df-container\">\n",
              "      <div>\n",
              "<style scoped>\n",
              "    .dataframe tbody tr th:only-of-type {\n",
              "        vertical-align: middle;\n",
              "    }\n",
              "\n",
              "    .dataframe tbody tr th {\n",
              "        vertical-align: top;\n",
              "    }\n",
              "\n",
              "    .dataframe thead th {\n",
              "        text-align: right;\n",
              "    }\n",
              "</style>\n",
              "<table border=\"1\" class=\"dataframe\">\n",
              "  <thead>\n",
              "    <tr style=\"text-align: right;\">\n",
              "      <th></th>\n",
              "      <th>index</th>\n",
              "      <th>Year</th>\n",
              "      <th>Schizophrenia (%)</th>\n",
              "      <th>Bipolar disorder (%)</th>\n",
              "      <th>Eating disorders (%)</th>\n",
              "      <th>Anxiety disorders (%)</th>\n",
              "      <th>Drug use disorders (%)</th>\n",
              "      <th>Depression (%)</th>\n",
              "      <th>Alcohol use disorders (%)</th>\n",
              "    </tr>\n",
              "  </thead>\n",
              "  <tbody>\n",
              "    <tr>\n",
              "      <th>count</th>\n",
              "      <td>6468.000000</td>\n",
              "      <td>6468.000000</td>\n",
              "      <td>6468.000000</td>\n",
              "      <td>6468.000000</td>\n",
              "      <td>6468.000000</td>\n",
              "      <td>6468.000000</td>\n",
              "      <td>6468.000000</td>\n",
              "      <td>6468.000000</td>\n",
              "      <td>6468.000000</td>\n",
              "    </tr>\n",
              "    <tr>\n",
              "      <th>mean</th>\n",
              "      <td>3233.500000</td>\n",
              "      <td>2003.500000</td>\n",
              "      <td>0.211644</td>\n",
              "      <td>0.719145</td>\n",
              "      <td>0.239998</td>\n",
              "      <td>3.989921</td>\n",
              "      <td>0.862278</td>\n",
              "      <td>3.497654</td>\n",
              "      <td>1.585821</td>\n",
              "    </tr>\n",
              "    <tr>\n",
              "      <th>std</th>\n",
              "      <td>1867.295103</td>\n",
              "      <td>8.078372</td>\n",
              "      <td>0.044253</td>\n",
              "      <td>0.171589</td>\n",
              "      <td>0.158141</td>\n",
              "      <td>1.167526</td>\n",
              "      <td>0.460679</td>\n",
              "      <td>0.655859</td>\n",
              "      <td>0.860283</td>\n",
              "    </tr>\n",
              "    <tr>\n",
              "      <th>min</th>\n",
              "      <td>0.000000</td>\n",
              "      <td>1990.000000</td>\n",
              "      <td>0.146902</td>\n",
              "      <td>0.314535</td>\n",
              "      <td>0.073908</td>\n",
              "      <td>2.023393</td>\n",
              "      <td>0.383650</td>\n",
              "      <td>2.139903</td>\n",
              "      <td>0.446940</td>\n",
              "    </tr>\n",
              "    <tr>\n",
              "      <th>25%</th>\n",
              "      <td>1616.750000</td>\n",
              "      <td>1996.750000</td>\n",
              "      <td>0.181529</td>\n",
              "      <td>0.615533</td>\n",
              "      <td>0.122387</td>\n",
              "      <td>3.188824</td>\n",
              "      <td>0.535064</td>\n",
              "      <td>3.005529</td>\n",
              "      <td>0.993685</td>\n",
              "    </tr>\n",
              "    <tr>\n",
              "      <th>50%</th>\n",
              "      <td>3233.500000</td>\n",
              "      <td>2003.500000</td>\n",
              "      <td>0.199563</td>\n",
              "      <td>0.693134</td>\n",
              "      <td>0.182525</td>\n",
              "      <td>3.554373</td>\n",
              "      <td>0.726430</td>\n",
              "      <td>3.499606</td>\n",
              "      <td>1.479936</td>\n",
              "    </tr>\n",
              "    <tr>\n",
              "      <th>75%</th>\n",
              "      <td>4850.250000</td>\n",
              "      <td>2010.250000</td>\n",
              "      <td>0.236366</td>\n",
              "      <td>0.835063</td>\n",
              "      <td>0.292667</td>\n",
              "      <td>4.682163</td>\n",
              "      <td>0.940157</td>\n",
              "      <td>3.912381</td>\n",
              "      <td>1.867834</td>\n",
              "    </tr>\n",
              "    <tr>\n",
              "      <th>max</th>\n",
              "      <td>6467.000000</td>\n",
              "      <td>2017.000000</td>\n",
              "      <td>0.375110</td>\n",
              "      <td>1.206597</td>\n",
              "      <td>0.943991</td>\n",
              "      <td>8.967330</td>\n",
              "      <td>3.452476</td>\n",
              "      <td>6.602754</td>\n",
              "      <td>5.474668</td>\n",
              "    </tr>\n",
              "  </tbody>\n",
              "</table>\n",
              "</div>\n",
              "      <button class=\"colab-df-convert\" onclick=\"convertToInteractive('df-ab2ab35b-a47e-483b-b0b3-ee5c382b97c9')\"\n",
              "              title=\"Convert this dataframe to an interactive table.\"\n",
              "              style=\"display:none;\">\n",
              "        \n",
              "  <svg xmlns=\"http://www.w3.org/2000/svg\" height=\"24px\"viewBox=\"0 0 24 24\"\n",
              "       width=\"24px\">\n",
              "    <path d=\"M0 0h24v24H0V0z\" fill=\"none\"/>\n",
              "    <path d=\"M18.56 5.44l.94 2.06.94-2.06 2.06-.94-2.06-.94-.94-2.06-.94 2.06-2.06.94zm-11 1L8.5 8.5l.94-2.06 2.06-.94-2.06-.94L8.5 2.5l-.94 2.06-2.06.94zm10 10l.94 2.06.94-2.06 2.06-.94-2.06-.94-.94-2.06-.94 2.06-2.06.94z\"/><path d=\"M17.41 7.96l-1.37-1.37c-.4-.4-.92-.59-1.43-.59-.52 0-1.04.2-1.43.59L10.3 9.45l-7.72 7.72c-.78.78-.78 2.05 0 2.83L4 21.41c.39.39.9.59 1.41.59.51 0 1.02-.2 1.41-.59l7.78-7.78 2.81-2.81c.8-.78.8-2.07 0-2.86zM5.41 20L4 18.59l7.72-7.72 1.47 1.35L5.41 20z\"/>\n",
              "  </svg>\n",
              "      </button>\n",
              "      \n",
              "  <style>\n",
              "    .colab-df-container {\n",
              "      display:flex;\n",
              "      flex-wrap:wrap;\n",
              "      gap: 12px;\n",
              "    }\n",
              "\n",
              "    .colab-df-convert {\n",
              "      background-color: #E8F0FE;\n",
              "      border: none;\n",
              "      border-radius: 50%;\n",
              "      cursor: pointer;\n",
              "      display: none;\n",
              "      fill: #1967D2;\n",
              "      height: 32px;\n",
              "      padding: 0 0 0 0;\n",
              "      width: 32px;\n",
              "    }\n",
              "\n",
              "    .colab-df-convert:hover {\n",
              "      background-color: #E2EBFA;\n",
              "      box-shadow: 0px 1px 2px rgba(60, 64, 67, 0.3), 0px 1px 3px 1px rgba(60, 64, 67, 0.15);\n",
              "      fill: #174EA6;\n",
              "    }\n",
              "\n",
              "    [theme=dark] .colab-df-convert {\n",
              "      background-color: #3B4455;\n",
              "      fill: #D2E3FC;\n",
              "    }\n",
              "\n",
              "    [theme=dark] .colab-df-convert:hover {\n",
              "      background-color: #434B5C;\n",
              "      box-shadow: 0px 1px 3px 1px rgba(0, 0, 0, 0.15);\n",
              "      filter: drop-shadow(0px 1px 2px rgba(0, 0, 0, 0.3));\n",
              "      fill: #FFFFFF;\n",
              "    }\n",
              "  </style>\n",
              "\n",
              "      <script>\n",
              "        const buttonEl =\n",
              "          document.querySelector('#df-ab2ab35b-a47e-483b-b0b3-ee5c382b97c9 button.colab-df-convert');\n",
              "        buttonEl.style.display =\n",
              "          google.colab.kernel.accessAllowed ? 'block' : 'none';\n",
              "\n",
              "        async function convertToInteractive(key) {\n",
              "          const element = document.querySelector('#df-ab2ab35b-a47e-483b-b0b3-ee5c382b97c9');\n",
              "          const dataTable =\n",
              "            await google.colab.kernel.invokeFunction('convertToInteractive',\n",
              "                                                     [key], {});\n",
              "          if (!dataTable) return;\n",
              "\n",
              "          const docLinkHtml = 'Like what you see? Visit the ' +\n",
              "            '<a target=\"_blank\" href=https://colab.research.google.com/notebooks/data_table.ipynb>data table notebook</a>'\n",
              "            + ' to learn more about interactive tables.';\n",
              "          element.innerHTML = '';\n",
              "          dataTable['output_type'] = 'display_data';\n",
              "          await google.colab.output.renderOutput(dataTable, element);\n",
              "          const docLink = document.createElement('div');\n",
              "          docLink.innerHTML = docLinkHtml;\n",
              "          element.appendChild(docLink);\n",
              "        }\n",
              "      </script>\n",
              "    </div>\n",
              "  </div>\n",
              "  "
            ]
          },
          "metadata": {},
          "execution_count": 46
        }
      ]
    },
    {
      "cell_type": "markdown",
      "source": [
        "#Perform Data Analysis"
      ],
      "metadata": {
        "id": "c2HQIlWPANPb"
      }
    },
    {
      "cell_type": "code",
      "source": [
        "subset_data = data[['Entity', 'Year', 'Schizophrenia (%)']]  # Select specific columns as a subset\n",
        "print(subset_data)"
      ],
      "metadata": {
        "colab": {
          "base_uri": "https://localhost:8080/"
        },
        "id": "Jx8AywEdO0rz",
        "outputId": "53cb70cc-8a0e-4acf-ee0c-7924014a9a72"
      },
      "execution_count": null,
      "outputs": [
        {
          "output_type": "stream",
          "name": "stdout",
          "text": [
            "           Entity  Year  Schizophrenia (%)\n",
            "0     Afghanistan  1990           0.160560\n",
            "1     Afghanistan  1991           0.160312\n",
            "2     Afghanistan  1992           0.160135\n",
            "3     Afghanistan  1993           0.160037\n",
            "4     Afghanistan  1994           0.160022\n",
            "...           ...   ...                ...\n",
            "6463     Zimbabwe  2013           0.155670\n",
            "6464     Zimbabwe  2014           0.155993\n",
            "6465     Zimbabwe  2015           0.156465\n",
            "6466     Zimbabwe  2016           0.157111\n",
            "6467     Zimbabwe  2017           0.157963\n",
            "\n",
            "[6468 rows x 3 columns]\n"
          ]
        }
      ]
    },
    {
      "cell_type": "code",
      "source": [
        "#Schizophrenia Stats in Thailand\n",
        "df = pd.DataFrame(subset_data)\n",
        "df.set_index('Entity', inplace=True)  # Set 'Name' column as the index\n",
        "selected_rows_thai = df.loc['Thailand']\n",
        "print(selected_rows_thai)\n",
        "thai = selected_rows_thai"
      ],
      "metadata": {
        "colab": {
          "base_uri": "https://localhost:8080/"
        },
        "id": "vJsdGJKnQ-kx",
        "outputId": "9f9247fc-9d3c-4c02-a633-5867720a2d77"
      },
      "execution_count": null,
      "outputs": [
        {
          "output_type": "stream",
          "name": "stdout",
          "text": [
            "          Year  Schizophrenia (%)\n",
            "Entity                           \n",
            "Thailand  1990           0.214772\n",
            "Thailand  1991           0.215890\n",
            "Thailand  1992           0.217011\n",
            "Thailand  1993           0.218082\n",
            "Thailand  1994           0.219050\n",
            "Thailand  1995           0.219850\n",
            "Thailand  1996           0.220704\n",
            "Thailand  1997           0.221770\n",
            "Thailand  1998           0.222879\n",
            "Thailand  1999           0.223869\n",
            "Thailand  2000           0.224566\n",
            "Thailand  2001           0.225164\n",
            "Thailand  2002           0.225911\n",
            "Thailand  2003           0.226703\n",
            "Thailand  2004           0.227423\n",
            "Thailand  2005           0.227950\n",
            "Thailand  2006           0.228422\n",
            "Thailand  2007           0.229008\n",
            "Thailand  2008           0.229636\n",
            "Thailand  2009           0.230244\n",
            "Thailand  2010           0.230749\n",
            "Thailand  2011           0.231224\n",
            "Thailand  2012           0.231746\n",
            "Thailand  2013           0.232316\n",
            "Thailand  2014           0.232920\n",
            "Thailand  2015           0.233556\n",
            "Thailand  2016           0.234210\n",
            "Thailand  2017           0.234879\n"
          ]
        }
      ]
    },
    {
      "cell_type": "code",
      "source": [
        "#Schizophrenia Stats in Japan\n",
        "df = pd.DataFrame(subset_data)\n",
        "df.set_index('Entity', inplace=True)  # Set 'Name' column as the index\n",
        "selected_rows_japan = df.loc['Japan']\n",
        "print(selected_rows_japan)\n",
        "japan = selected_rows_japan"
      ],
      "metadata": {
        "colab": {
          "base_uri": "https://localhost:8080/"
        },
        "id": "BE2L1_ITTUVG",
        "outputId": "2b842748-4eaf-43d2-a4c6-b99ee82ce791"
      },
      "execution_count": null,
      "outputs": [
        {
          "output_type": "stream",
          "name": "stdout",
          "text": [
            "        Year  Schizophrenia (%)\n",
            "Entity                         \n",
            "Japan   1990           0.290950\n",
            "Japan   1991           0.290813\n",
            "Japan   1992           0.290716\n",
            "Japan   1993           0.290670\n",
            "Japan   1994           0.290673\n",
            "Japan   1995           0.290728\n",
            "Japan   1996           0.290864\n",
            "Japan   1997           0.291061\n",
            "Japan   1998           0.291295\n",
            "Japan   1999           0.291513\n",
            "Japan   2000           0.291653\n",
            "Japan   2001           0.291533\n",
            "Japan   2002           0.291140\n",
            "Japan   2003           0.290677\n",
            "Japan   2004           0.290338\n",
            "Japan   2005           0.290315\n",
            "Japan   2006           0.291754\n",
            "Japan   2007           0.294921\n",
            "Japan   2008           0.298689\n",
            "Japan   2009           0.301931\n",
            "Japan   2010           0.303509\n",
            "Japan   2011           0.303683\n",
            "Japan   2012           0.303467\n",
            "Japan   2013           0.302834\n",
            "Japan   2014           0.301750\n",
            "Japan   2015           0.300201\n",
            "Japan   2016           0.298155\n",
            "Japan   2017           0.295578\n"
          ]
        }
      ]
    },
    {
      "cell_type": "code",
      "source": [
        "#Compare and Merge Thailand and Japan\n",
        "merged_data = pd.merge(thai, japan, on='Year', how='inner')\n",
        "print(merged_data)"
      ],
      "metadata": {
        "colab": {
          "base_uri": "https://localhost:8080/"
        },
        "id": "b8HJTrw0Wqtv",
        "outputId": "3669d74d-69f6-4c6d-c711-69a0b26b2cec"
      },
      "execution_count": null,
      "outputs": [
        {
          "output_type": "stream",
          "name": "stdout",
          "text": [
            "    Year  Schizophrenia (%)_x  Schizophrenia (%)_y\n",
            "0   1990             0.214772             0.290950\n",
            "1   1991             0.215890             0.290813\n",
            "2   1992             0.217011             0.290716\n",
            "3   1993             0.218082             0.290670\n",
            "4   1994             0.219050             0.290673\n",
            "5   1995             0.219850             0.290728\n",
            "6   1996             0.220704             0.290864\n",
            "7   1997             0.221770             0.291061\n",
            "8   1998             0.222879             0.291295\n",
            "9   1999             0.223869             0.291513\n",
            "10  2000             0.224566             0.291653\n",
            "11  2001             0.225164             0.291533\n",
            "12  2002             0.225911             0.291140\n",
            "13  2003             0.226703             0.290677\n",
            "14  2004             0.227423             0.290338\n",
            "15  2005             0.227950             0.290315\n",
            "16  2006             0.228422             0.291754\n",
            "17  2007             0.229008             0.294921\n",
            "18  2008             0.229636             0.298689\n",
            "19  2009             0.230244             0.301931\n",
            "20  2010             0.230749             0.303509\n",
            "21  2011             0.231224             0.303683\n",
            "22  2012             0.231746             0.303467\n",
            "23  2013             0.232316             0.302834\n",
            "24  2014             0.232920             0.301750\n",
            "25  2015             0.233556             0.300201\n",
            "26  2016             0.234210             0.298155\n",
            "27  2017             0.234879             0.295578\n"
          ]
        }
      ]
    },
    {
      "cell_type": "code",
      "source": [
        "#Create new datafram that group value by yearly\n",
        "mean_by_compare = merged_data.groupby('Year')[['Schizophrenia (%)_x', 'Schizophrenia (%)_y']].mean().reset_index()\n",
        "\n",
        "#Add line plot to visualize how disorders change over time\n",
        "import seaborn as sns\n",
        "\n",
        "plt.figure(figsize = (6,3))\n",
        "sns.lineplot(data=mean_by_compare, x=\"Year\", y=\"Schizophrenia (%)_x\", label=\"Thai Schiz\")\n",
        "sns.lineplot(data=mean_by_compare, x=\"Year\", y=\"Schizophrenia (%)_y\", label=\"Japan Schiz\")\n",
        "\n",
        "\n",
        "#Set title, legend and x y axis\n",
        "plt.title('Prevalence of Schizophrenia by Year TH-JP Compare',\n",
        "          fontsize = 10,\n",
        "          loc = 'left',\n",
        "          fontweight='bold')"
      ],
      "metadata": {
        "colab": {
          "base_uri": "https://localhost:8080/",
          "height": 348
        },
        "id": "mmDiXJbKThyJ",
        "outputId": "b9e68ada-99b4-4936-be09-35d0d77838a5"
      },
      "execution_count": null,
      "outputs": [
        {
          "output_type": "execute_result",
          "data": {
            "text/plain": [
              "Text(0.0, 1.0, 'Prevalence of Schizophrenia by Year TH-JP Compare')"
            ]
          },
          "metadata": {},
          "execution_count": 110
        },
        {
          "output_type": "display_data",
          "data": {
            "text/plain": [
              "<Figure size 600x300 with 1 Axes>"
            ],
            "image/png": "[encoded data removed]"
          },
          "metadata": {}
        }
      ]
    }
  ]
}